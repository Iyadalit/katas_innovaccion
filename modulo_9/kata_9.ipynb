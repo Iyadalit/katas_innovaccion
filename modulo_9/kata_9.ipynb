{
 "cells": [
  {
   "cell_type": "markdown",
   "metadata": {},
   "source": [
    "# Kata 9 Funciones"
   ]
  },
  {
   "cell_type": "markdown",
   "metadata": {},
   "source": [
    "##### Programa 1"
   ]
  },
  {
   "cell_type": "code",
   "execution_count": 3,
   "metadata": {},
   "outputs": [
    {
     "name": "stdout",
     "output_type": "stream",
     "text": [
      " Reporte de combustible:\n",
      "    promedio: 20.0%\n",
      "    tanque 1: 10%\n",
      "    tanque 2: 20%\n",
      "    tanque 3: 30%\n",
      "    \n"
     ]
    }
   ],
   "source": [
    "def combustible(tanque1, tanque2, tanque3):\n",
    "    average= (tanque1+tanque2+tanque3) / 3\n",
    "    return f''' Reporte de combustible:\n",
    "    promedio: {average}%\n",
    "    tanque 1: {tanque1}%\n",
    "    tanque 2: {tanque2}%\n",
    "    tanque 3: {tanque3}%\n",
    "    '''\n",
    "print( combustible(10, 20, 30))\n"
   ]
  },
  {
   "cell_type": "code",
   "execution_count": 5,
   "metadata": {},
   "outputs": [
    {
     "name": "stdout",
     "output_type": "stream",
     "text": [
      " Reporte de combustible:\n",
      "    promedio: 20.0%\n",
      "    tanque 1: 10%\n",
      "    tanque 2: 20%\n",
      "    tanque 3: 30%\n",
      "    \n"
     ]
    }
   ],
   "source": [
    "def combustible(tanque1, tanque2, tanque3):\n",
    "    average= cal_average(tanque1,tanque2, tanque3)\n",
    "    return f''' Reporte de combustible:\n",
    "    promedio: {average}%\n",
    "    tanque 1: {tanque1}%\n",
    "    tanque 2: {tanque2}%\n",
    "    tanque 3: {tanque3}%\n",
    "    '''\n",
    "def cal_average(tanque1, tanque2, tanque3):\n",
    "    average= (tanque1+tanque2+tanque3) / 3\n",
    "    return average\n",
    "print( combustible(10, 20, 30))\n"
   ]
  },
  {
   "cell_type": "markdown",
   "metadata": {},
   "source": [
    "##### Programa 2"
   ]
  },
  {
   "cell_type": "code",
   "execution_count": 6,
   "metadata": {},
   "outputs": [
    {
     "name": "stdout",
     "output_type": "stream",
     "text": [
      "\n",
      "    La misión se dirige a: luna\n",
      "    Tiempo total de vuelo:35\n",
      "    Total de combustible: 56\n"
     ]
    }
   ],
   "source": [
    "def reporteDeDespegue(tiempo, duracion,destino, tanque1, tanque2):\n",
    "    return f'''\n",
    "    La misión se dirige a: {destino}\n",
    "    Tiempo total de vuelo:{tiempo+duracion}\n",
    "    Total de combustible: {tanque1+tanque2}'''\n",
    "\n",
    "print(reporteDeDespegue(23,12,\"luna\",23,33))\n"
   ]
  },
  {
   "cell_type": "code",
   "execution_count": 7,
   "metadata": {},
   "outputs": [
    {
     "name": "stdout",
     "output_type": "stream",
     "text": [
      "\n",
      "    La misión se dirige a: luna\n",
      "    Tiempo total de vuelo:68\n",
      "    Total de combustible: 610\n"
     ]
    }
   ],
   "source": [
    "def reporteDeDespegue(destino, *minutos, **tanques):\n",
    "    return f'''\n",
    "    La misión se dirige a: {destino}\n",
    "    Tiempo total de vuelo:{sum(minutos)}\n",
    "    Total de combustible: {sum(tanques.values())}'''\n",
    "\n",
    "print(reporteDeDespegue(\"luna\",23,33,12, tanque1=400, tanque2=210))"
   ]
  },
  {
   "cell_type": "code",
   "execution_count": 10,
   "metadata": {},
   "outputs": [
    {
     "name": "stdout",
     "output_type": "stream",
     "text": [
      "\n",
      "    La misión se dirige a: luna\n",
      "    Tiempo total de vuelo:68\n",
      "    Total de combustible: 610\n",
      "    tanque1 tiene 400\n",
      "tanque2 tiene 210\n",
      "\n"
     ]
    }
   ],
   "source": [
    "def reporteDeDespegue(destino, *minutos, **tanques):\n",
    "    reporte= f'''\n",
    "    La misión se dirige a: {destino}\n",
    "    Tiempo total de vuelo:{sum(minutos)}\n",
    "    Total de combustible: {sum(tanques.values())}\n",
    "    '''\n",
    "    for nombre_tanque, litros_tanque in tanques.items():\n",
    "        reporte+= f\"{nombre_tanque} tiene {litros_tanque}\\n\"\n",
    "    return reporte\n",
    "\n",
    "print(reporteDeDespegue(\"luna\",23,33,12, tanque1=400, tanque2=210))"
   ]
  }
 ],
 "metadata": {
  "interpreter": {
   "hash": "33541a670e8887513ebdf0f19cec6625b51694c5ef6b1c7e83282c54d5cd54e5"
  },
  "kernelspec": {
   "display_name": "Python 3.10.2 64-bit",
   "language": "python",
   "name": "python3"
  },
  "language_info": {
   "codemirror_mode": {
    "name": "ipython",
    "version": 3
   },
   "file_extension": ".py",
   "mimetype": "text/x-python",
   "name": "python",
   "nbconvert_exporter": "python",
   "pygments_lexer": "ipython3",
   "version": "3.10.2"
  },
  "orig_nbformat": 4
 },
 "nbformat": 4,
 "nbformat_minor": 2
}
