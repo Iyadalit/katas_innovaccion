{
 "cells": [
  {
   "cell_type": "markdown",
   "metadata": {},
   "source": [
    "# Kata 5 Operadores aritméticos"
   ]
  },
  {
   "cell_type": "markdown",
   "metadata": {},
   "source": [
    "##### Programa 1"
   ]
  },
  {
   "cell_type": "code",
   "execution_count": 8,
   "metadata": {},
   "outputs": [
    {
     "name": "stdout",
     "output_type": "stream",
     "text": [
      "628949330\n",
      "390577534\n"
     ]
    }
   ],
   "source": [
    "\n",
    "dis_jupiter = int('778547200')\n",
    "dis_tierra = int('149597870') \n",
    "distancia = dis_jupiter - dis_tierra\n",
    "print(distancia)\n",
    "print(round(distancia *0.621))\n",
    "\n"
   ]
  },
  {
   "cell_type": "markdown",
   "metadata": {},
   "source": [
    "##### Programa 2"
   ]
  },
  {
   "cell_type": "code",
   "execution_count": 1,
   "metadata": {},
   "outputs": [
    {
     "name": "stdout",
     "output_type": "stream",
     "text": [
      "1\n",
      "0.621\n"
     ]
    }
   ],
   "source": [
    "planeta1_dis = input(\"¿Cuál es la distancia del planeta 1 en km: \")\n",
    "planeta2_dis = input(\"¿Cuál es la distancia del planeta 2 en km: \")\n",
    "\n",
    "planeta1_dis = int(planeta1_dis)\n",
    "planeta2_dis = int(planeta2_dis)\n",
    "distance_km = planeta1_dis-planeta2_dis\n",
    "print(abs(distance_km))\n",
    "\n",
    "distance_millas= distance_km*0.621\n",
    "print(abs(distance_millas))\n"
   ]
  }
 ],
 "metadata": {
  "interpreter": {
   "hash": "33541a670e8887513ebdf0f19cec6625b51694c5ef6b1c7e83282c54d5cd54e5"
  },
  "kernelspec": {
   "display_name": "Python 3.10.2 64-bit",
   "language": "python",
   "name": "python3"
  },
  "language_info": {
   "codemirror_mode": {
    "name": "ipython",
    "version": 3
   },
   "file_extension": ".py",
   "mimetype": "text/x-python",
   "name": "python",
   "nbconvert_exporter": "python",
   "pygments_lexer": "ipython3",
   "version": "3.10.2"
  },
  "orig_nbformat": 4
 },
 "nbformat": 4,
 "nbformat_minor": 2
}
