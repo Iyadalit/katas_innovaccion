{
 "cells": [
  {
   "cell_type": "markdown",
   "metadata": {},
   "source": [
    "# Kata 6 Listas"
   ]
  },
  {
   "cell_type": "markdown",
   "metadata": {},
   "source": [
    "##### Programa 1"
   ]
  },
  {
   "cell_type": "code",
   "execution_count": 10,
   "metadata": {},
   "outputs": [
    {
     "name": "stdout",
     "output_type": "stream",
     "text": [
      "Hay 8 planetas en el sistema solar\n",
      "Hay 9 planetas en el sistema solar contando a pluton\n"
     ]
    }
   ],
   "source": [
    "planets = [\"mercurio\",\"venus\",\"tierra\",\"marte\",\"jupiter\",\"saturno\",\"urano\",\"neptuno\"]\n",
    "print(\"Hay\", len(planets), \"planetas en el sistema solar\")\n",
    "planets.append(\"pluton\")\n",
    "print(\"Hay\", len(planets), \"planetas en el sistema solar contando a\", planets[-1])"
   ]
  },
  {
   "cell_type": "markdown",
   "metadata": {},
   "source": [
    "##### Programa 2"
   ]
  },
  {
   "cell_type": "code",
   "execution_count": 23,
   "metadata": {},
   "outputs": [
    {
     "name": "stdout",
     "output_type": "stream",
     "text": [
      "El planeta urano es el 7\n",
      "Los planetas mas cercanos al planeta urano son: ['mercurio', 'venus', 'tierra', 'marte', 'jupiter', 'saturno']\n",
      "Los planetas mas lejanos al planeta urano son: ['neptuno', 'pluton']\n"
     ]
    }
   ],
   "source": [
    "planets = [\"mercurio\",\"venus\",\"tierra\",\"marte\",\"jupiter\",\"saturno\",\"urano\",\"neptuno\",\"pluton\"]\n",
    "nom_planet = input(\"Introduce un nombre de planeta: \")\n",
    "nom_list_planet = planets.index(nom_planet)\n",
    "print(\"El planeta\", nom_planet, 'es el', nom_list_planet + 1)\n",
    "print(\"Los planetas mas cercanos al planeta\",nom_planet, \"son:\", planets[0:nom_list_planet])\n",
    "print(\"Los planetas mas lejanos al planeta\",nom_planet, \"son:\", planets[nom_list_planet+1:])\n",
    "\n"
   ]
  }
 ],
 "metadata": {
  "interpreter": {
   "hash": "33541a670e8887513ebdf0f19cec6625b51694c5ef6b1c7e83282c54d5cd54e5"
  },
  "kernelspec": {
   "display_name": "Python 3.10.2 64-bit",
   "language": "python",
   "name": "python3"
  },
  "language_info": {
   "codemirror_mode": {
    "name": "ipython",
    "version": 3
   },
   "file_extension": ".py",
   "mimetype": "text/x-python",
   "name": "python",
   "nbconvert_exporter": "python",
   "pygments_lexer": "ipython3",
   "version": "3.10.2"
  },
  "orig_nbformat": 4
 },
 "nbformat": 4,
 "nbformat_minor": 2
}
